{
 "cells": [
  {
   "cell_type": "code",
   "execution_count": 1,
   "id": "dd6c68eb-53cd-40e8-bf64-beee0f817846",
   "metadata": {},
   "outputs": [
    {
     "name": "stdout",
     "output_type": "stream",
     "text": [
      "JupyterLab git Integration!\n"
     ]
    }
   ],
   "source": [
    "print(\"JupyterLab git Integration!\")"
   ]
  },
  {
   "cell_type": "code",
   "execution_count": 2,
   "id": "21691a39-3c7e-452c-83f6-44a19159164f",
   "metadata": {},
   "outputs": [
    {
     "name": "stdout",
     "output_type": "stream",
     "text": [
      "This was Successful!\n"
     ]
    }
   ],
   "source": [
    "print(\"This was Successful!\")"
   ]
  },
  {
   "cell_type": "code",
   "execution_count": 3,
   "id": "245a3e1a-56cc-499b-bf1b-fcdbe0268899",
   "metadata": {},
   "outputs": [
    {
     "name": "stdout",
     "output_type": "stream",
     "text": [
      "and one more time...\n"
     ]
    }
   ],
   "source": [
    "print(\"and one more time...\")"
   ]
  }
 ],
 "metadata": {
  "kernelspec": {
   "display_name": "Python 3 (ipykernel)",
   "language": "python",
   "name": "python3"
  },
  "language_info": {
   "codemirror_mode": {
    "name": "ipython",
    "version": 3
   },
   "file_extension": ".py",
   "mimetype": "text/x-python",
   "name": "python",
   "nbconvert_exporter": "python",
   "pygments_lexer": "ipython3",
   "version": "3.9.7"
  }
 },
 "nbformat": 4,
 "nbformat_minor": 5
}
