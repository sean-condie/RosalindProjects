{
 "cells": [
  {
   "cell_type": "code",
   "execution_count": 4,
   "metadata": {},
   "outputs": [],
   "source": [
    "import sys\n",
    "import pandas as pd\n",
    "\n",
    "#functions\n",
    "\n",
    "#MAIN FOLLOWS\n",
    "#------------\n",
    "#collect the data\n",
    "f = open(\"rosalind_prot.txt\", \"r\")\n",
    "rna = f.read()\n",
    "f.close()\n",
    "\n",
    "aa_codes = \"\"\n",
    "\n",
    "#count the length of the rna\n",
    "length = len(rna)\n",
    "\n",
    "#indices\n",
    "i = 0\n",
    "start_codon_found = False\n",
    "\n",
    "#find the first AUG\n",
    "aug = \"AUG\"\n",
    "while not start_codon_found: #go through every nucleotide except the last 2\n",
    "    if i == length-2: #end of the rna\n",
    "        break\n",
    "    elif rna[i:i+3] == aug:\n",
    "        start_codon_found = True\n",
    "    else:\n",
    "        i += 1\n",
    "\n",
    "if start_codon_found == False: #error\n",
    "    print(\"no start codon 'AUG' found in the rna.\")\n",
    "else: #start codon found\n",
    "    #load the codon table\n",
    "    codons = pd.read_csv('RNA_Table.txt', sep=\"\\t\", header=None)\n",
    "    codon = rna[i:i+3] #first codon\n",
    "    while codons.loc[codons[0]==codon, 1].values[0] != \"Stop\":\n",
    "        aa_codes += codons.loc[codons[0]==codon, 1].values[0] \n",
    "        #next codon\n",
    "        i += 3\n",
    "        codon = rna[i:i+3]\n",
    "\n",
    "#create and output file\n",
    "out = open(\"rosalind_prot_output.txt\", \"w\")\n",
    "out.write(aa_codes)\n",
    "out.close()"
   ]
  },
  {
   "cell_type": "code",
   "execution_count": null,
   "metadata": {},
   "outputs": [],
   "source": []
  }
 ],
 "metadata": {
  "kernelspec": {
   "display_name": "Python 3",
   "language": "python",
   "name": "python3"
  },
  "language_info": {
   "codemirror_mode": {
    "name": "ipython",
    "version": 3
   },
   "file_extension": ".py",
   "mimetype": "text/x-python",
   "name": "python",
   "nbconvert_exporter": "python",
   "pygments_lexer": "ipython3",
   "version": "3.8.5"
  }
 },
 "nbformat": 4,
 "nbformat_minor": 4
}
