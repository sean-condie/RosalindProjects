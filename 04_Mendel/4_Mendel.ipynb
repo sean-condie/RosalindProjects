{
 "cells": [
  {
   "cell_type": "code",
   "execution_count": 6,
   "metadata": {},
   "outputs": [
    {
     "name": "stdout",
     "output_type": "stream",
     "text": [
      "0.7458771929824561\n"
     ]
    }
   ],
   "source": [
    "#populations, \n",
    "#k = homozygous dominant\n",
    "#m = heterozygous\n",
    "#n = homozygous recessive\n",
    "\n",
    "#store the input\n",
    "f = open(\"rosalind_iprb.txt\", \"r\")\n",
    "dna = f.read()\n",
    "f.close()\n",
    "\n",
    "#parse out the individual values\n",
    "values = dna.split()\n",
    "\n",
    "k = int(values[0])\n",
    "m = int(values[1])\n",
    "n = int(values[2])\n",
    "\n",
    "#total population\n",
    "total_pop = k+m+n\n",
    "\n",
    "#prob that a homozygous dominant mates with another homozygous dominant\n",
    "p1 = (k/total_pop) * ((k-1)/(total_pop-1))\n",
    "\n",
    "#prob that a homozygous dominant mates with a heterozygous\n",
    "p2 = (k/total_pop) * (m/(total_pop-1)) * 2 #account for the reverse interaction\n",
    "\n",
    "#prob that a homozygous dominant mates with a recessive\n",
    "p3 = (k/total_pop) * (n/(total_pop-1)) * 2 #account for the reverse interaction\n",
    "\n",
    "#p1, p2, p3 all express dominant phenotype\n",
    "freq_dom = p1+p2+p3\n",
    "\n",
    "#prob that a heterozygous mates with a heterozygous\n",
    "p4 = (m/total_pop) * ((m-1)/(total_pop-1))\n",
    "\n",
    "#let A be the dominant allele and a be the recessive allele\n",
    "#Aa * Aa produces AA,Aa,Aa,aa\n",
    "freq_dom += (p4*0.75)\n",
    "\n",
    "#prob that a heterozygous mates with a resesive\n",
    "p5 = (m/total_pop) * ((n)/(total_pop-1)) * 2 #account for the reverse interaction\n",
    "\n",
    "#Aa * aa produces Aa,Aa,aa,aa\n",
    "freq_dom += (p5*0.5)\n",
    "\n",
    "#prob that a recessive mates with a resesive\n",
    "p6 = (n/total_pop) * ((n-1)/(total_pop-1))\n",
    "#no dominant allele expression\n",
    "\n",
    "print(freq_dom)\n",
    "\n",
    "#create and output file\n",
    "out = open(\"rosalind_iprb_output.txt\", \"w\")\n",
    "out.write(str(freq_dom))  \n",
    "out.close()"
   ]
  }
 ],
 "metadata": {
  "kernelspec": {
   "display_name": "Python 3",
   "language": "python",
   "name": "python3"
  },
  "language_info": {
   "codemirror_mode": {
    "name": "ipython",
    "version": 3
   },
   "file_extension": ".py",
   "mimetype": "text/x-python",
   "name": "python",
   "nbconvert_exporter": "python",
   "pygments_lexer": "ipython3",
   "version": "3.8.5"
  }
 },
 "nbformat": 4,
 "nbformat_minor": 4
}
