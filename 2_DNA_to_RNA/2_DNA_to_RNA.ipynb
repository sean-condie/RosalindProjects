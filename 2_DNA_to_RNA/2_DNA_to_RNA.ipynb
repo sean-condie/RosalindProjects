{
 "cells": [
  {
   "cell_type": "code",
   "execution_count": 1,
   "id": "80369f6b-7597-49f9-b028-493515f088b4",
   "metadata": {},
   "outputs": [
    {
     "name": "stdout",
     "output_type": "stream",
     "text": [
      "UCCGUAUAAGUGCCGCACCAAGUCAGAGAACAUUAAGCUCGGGACGCUCUUUAUGUGAUAAUUCCGCGACCUAGUGCCAGGACUGAGAUGACAUACGCAGAUAUUCAGUUUUCGAAAGGUACAGGCUCCCGGCAUGUACGAUGACUGGGGUAACUAACGUAGCAGCUUGUAAUGCCAAUGCAUGCACGCUGAAAUGAUCAAUGUUGGGCCGCAGCACAUCAACUUACGCUUUUAAGUAGAAUGACAACCCGCGCGCCGAUAGCAGACAUCCCUCUAAUUACGUUAAUUUGGUGAGCAAACAGAUGUGGCACAGCAGAUAUGCAGCACAGAAAGAUUAGGACUCAGCUACGCGCUAAAAUAACAUUGCCUUUGCCGUGUUCCGGUUUGGAAUGCCUUCGCCAUUAUGGUUCGCCAGUCCUUCCCGAUGUCGUAGUGACUCCCGCAAUCUCGCCAUUGGUGAUGAGUCUGCACGGCAGCGUUCUUGUAGCGAGCGGCCUCCGCCUUCGCGGAUACCCAGCGUUUUAGUAAAUAAGUUCACUCAUCACACUUUCAGGAGUAACCGUACGGGCCAGGAGAUUGGCGACCUUGGGACUAGGUCGACAACCUUCGGAGAUCUUCCAUGUAUCACCAUAGCGGGCUACAUGUAGGCGUACCCUAGCCAGUCUUUCAGACAGAUCUUGUUACUCACGUGCGCAAGCUCCAGCAUGGUAUAGAACUGAAGGUAUGUCUCGCCUGGAUGUUUCUAGCGGCCGAGCCCGUACUUGUGACAGCGAAUCUCCAUCCGUGUAAGCCGAAUGGCACGAAUGACAUAAAAUUCACUGUAUCAAGACAAUACCCUGAGAUCGCCCGAUCGGCAGCAGGACGAGGAAUAGUGUCUAGGGCAUCAUCAUGUCAUCGGGCAUAGCAUGCU\n",
      "\n"
     ]
    }
   ],
   "source": [
    "#store the random input\n",
    "f = open(\"rosalind_rna.txt\", \"r\")\n",
    "dna = f.read()\n",
    "f.close()\n",
    "\n",
    "rna = dna.replace(\"T\", \"U\")\n",
    "\n",
    "print(rna)\n",
    "\n",
    "#create and output file\n",
    "out = open(\"rosalind_rna_output.txt\", \"w\")\n",
    "out.write(rna)  \n",
    "out.close()\n"
   ]
  },
  {
   "cell_type": "code",
   "execution_count": null,
   "id": "7210fc39-59c5-4baf-97bb-58675130f5ba",
   "metadata": {},
   "outputs": [],
   "source": []
  }
 ],
 "metadata": {
  "kernelspec": {
   "display_name": "Python 3",
   "language": "python",
   "name": "python3"
  },
  "language_info": {
   "codemirror_mode": {
    "name": "ipython",
    "version": 3
   },
   "file_extension": ".py",
   "mimetype": "text/x-python",
   "name": "python",
   "nbconvert_exporter": "python",
   "pygments_lexer": "ipython3",
   "version": "3.8.5"
  }
 },
 "nbformat": 4,
 "nbformat_minor": 5
}
