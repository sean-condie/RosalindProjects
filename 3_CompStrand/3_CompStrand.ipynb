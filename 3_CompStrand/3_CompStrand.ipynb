{
 "cells": [
  {
   "cell_type": "code",
   "execution_count": 4,
   "metadata": {},
   "outputs": [
    {
     "name": "stdout",
     "output_type": "stream",
     "text": [
      "GTTGTGTTCATTCCCGCCACAGGGTAGTTTTTCGTAGTTTTATTGAAACTGAGCGGCCCTTGCCAGTTACGGGTTAGCAGCTCGACCTACCCCGCAGGGCCTGACGTTATACATTGACGCCGAAGTGACAGGGCTTTTCACGTCAAACACCGTGTAACACATAGCCAGGTCGCATGGATCCTGTACGTGTTGTCTGCCCAAAACGCCGCACCACGAATACATCTGCACAGTTTGAATTTGTAAAAGCTCCACTCAACTTGAGAAGACGCTCGAGACTGTGGCCATAATAAAGTTAACTTTTTCAGTACCAGACATGGTCCGAATCCCTCTCACATAGTACTCGTCAAGCTCTACTTACCCTCAAGATCTCTATCAAGTTACGTCTAAGCAATCTGCTTTAGGAAGCTCGAATTGCGATCGCTGGCGTAAAGTCGTGGCGAGTCTGATGGATGACGCGCCGAGAACACTGAATTGATGCTTCTTCTCTGGGTAATTGAGCCGGAGCGTTAACCGGACCGAATGACTTCCAGAGGCATAGAATGGAGAAATCAGGAGTGACCCTTGACAAGCTGGTTATTCATGTTGACGTCTGCCTGATATTTGCCTCATATAACAAACCTTGCGAATGTCAGACGAATGTCCTACAAGGGTATGGTCCTTCCATTCTTACTTAACTAGCTACCCAGGTAGAGATATATGAGTACACACCCAAAATACCAGTATATGCCCCAATATTATACGACAGTGGGGTCAGACCTGATCCTTATAGGGGTCCGTTCTATTTCGAATTCACATTCGTGTGCAGGATCGCCTAGTTGCTGAGGGATGATGCGACGCCTCACCCTGTCCGTGCAGATCACCGAAACCCTCATCGCTGTTTGTTTATCACGTACGGTGGCAGGTGTCCGCCCTCACCCCTAACTCAACATTGTTGTAGCAGACAAGTGCAGTGAGACTGATTCTGTC\n"
     ]
    }
   ],
   "source": [
    "#store the input\n",
    "f = open(\"rosalind_revc.txt\", \"r\")\n",
    "dna = f.read()\n",
    "f.close()\n",
    "\n",
    "#reverse the string\n",
    "reverse = dna[::-1]\n",
    "\n",
    "comp = \"\"\n",
    "\n",
    "for n in reverse:\n",
    "    if n == \"A\":\n",
    "        comp += \"T\"\n",
    "    if n == \"T\":\n",
    "        comp += \"A\"\n",
    "    if n == \"C\":\n",
    "        comp += \"G\"\n",
    "    if n == \"G\":\n",
    "        comp += \"C\"\n",
    "\n",
    "print(comp)\n",
    "\n",
    "#create and output file\n",
    "out = open(\"rosalind_revc_output.txt\", \"w\")\n",
    "out.write(comp)  \n",
    "out.close()"
   ]
  },
  {
   "cell_type": "code",
   "execution_count": null,
   "metadata": {},
   "outputs": [],
   "source": []
  }
 ],
 "metadata": {
  "kernelspec": {
   "display_name": "Python 3",
   "language": "python",
   "name": "python3"
  },
  "language_info": {
   "codemirror_mode": {
    "name": "ipython",
    "version": 3
   },
   "file_extension": ".py",
   "mimetype": "text/x-python",
   "name": "python",
   "nbconvert_exporter": "python",
   "pygments_lexer": "ipython3",
   "version": "3.8.5"
  }
 },
 "nbformat": 4,
 "nbformat_minor": 4
}
