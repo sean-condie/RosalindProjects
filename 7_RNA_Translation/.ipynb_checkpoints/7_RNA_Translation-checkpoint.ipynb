{
 "cells": [
  {
   "cell_type": "code",
   "execution_count": 17,
   "metadata": {},
   "outputs": [],
   "source": [
    "#function to check GC content\n",
    "def CountGC(line):\n",
    "    count_GC = 0\n",
    "    count_total = 0\n",
    "    \n",
    "    #go through each character in the line\n",
    "    for c in line: \n",
    "        if (c == \"G\" or c == \"C\"):\n",
    "            count_GC += 1\n",
    "            count_total += 1\n",
    "        elif (c == \"A\" or c == \"T\"):\n",
    "            count_total += 1\n",
    "\n",
    "    return  (100 * count_GC/count_total) #return the percentage of GC with 6 decimal places\n",
    "\n",
    "#MAIN FOLLOWS\n",
    "#------------\n",
    "#collect the data\n",
    "f = open(\"rosalind_gc.txt\", \"r\")\n",
    "data = f.readlines() #store as a list of lines\n",
    "f.close()\n",
    "\n",
    "dna_string = \"\"\n",
    "\n",
    "#get the first header, excluding the \">\"\n",
    "header = data[0][1:]\n",
    "#variables\n",
    "gc = highest_gc = 0.0\n",
    "highest_gc_header = \"\"\n",
    "#go through the rest of the lines\n",
    "for line in data[1:]:\n",
    "    if line[0] != \">\": #not a header\n",
    "        dna_string += line\n",
    "    else: #next header\n",
    "        #get the current line's GC content\n",
    "        gc = CountGC(dna_string)\n",
    "        if gc > highest_gc:\n",
    "            highest_gc = gc\n",
    "            highest_gc_header = header\n",
    "            \n",
    "        #reset temp vars\n",
    "        header = line[1:] #new header\n",
    "        gc = 0\n",
    "        dna_string = \"\"\n",
    "        \n",
    "output = (highest_gc_header + str(highest_gc))\n",
    "#create and output file\n",
    "out = open(\"rosalind_gc_output.txt\", \"w\")\n",
    "out.write(output)\n",
    "out.close()"
   ]
  },
  {
   "cell_type": "code",
   "execution_count": null,
   "metadata": {},
   "outputs": [],
   "source": []
  },
  {
   "cell_type": "code",
   "execution_count": null,
   "metadata": {},
   "outputs": [],
   "source": []
  }
 ],
 "metadata": {
  "kernelspec": {
   "display_name": "Python 3",
   "language": "python",
   "name": "python3"
  },
  "language_info": {
   "codemirror_mode": {
    "name": "ipython",
    "version": 3
   },
   "file_extension": ".py",
   "mimetype": "text/x-python",
   "name": "python",
   "nbconvert_exporter": "python",
   "pygments_lexer": "ipython3",
   "version": "3.8.5"
  }
 },
 "nbformat": 4,
 "nbformat_minor": 4
}
