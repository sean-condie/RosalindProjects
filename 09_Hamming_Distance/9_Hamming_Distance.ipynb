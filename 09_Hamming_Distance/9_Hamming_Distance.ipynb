{
 "cells": [
  {
   "cell_type": "code",
   "execution_count": 2,
   "metadata": {},
   "outputs": [],
   "source": [
    "#functions\n",
    "\n",
    "#MAIN FOLLOWS\n",
    "#------------\n",
    "#collect the data\n",
    "f = open(\"rosalind_hamm.txt\", \"r\")\n",
    "data = f.readlines()\n",
    "f.close()\n",
    "\n",
    "str_1 = data[0].strip()\n",
    "str_2 = data[1].strip()\n",
    "\n",
    "hamm_count = 0\n",
    "\n",
    "#index\n",
    "i = 0\n",
    "\n",
    "while i < len(str_1):\n",
    "    if str_1[i] != str_2[i]:\n",
    "        hamm_count += 1\n",
    "    i += 1\n",
    "\n",
    "#create and output file\n",
    "out = open(\"rosalind_hamm_output.txt\", \"w\")\n",
    "out.write(str(hamm_count))\n",
    "out.close()"
   ]
  },
  {
   "cell_type": "code",
   "execution_count": null,
   "metadata": {},
   "outputs": [],
   "source": []
  },
  {
   "cell_type": "code",
   "execution_count": null,
   "metadata": {},
   "outputs": [],
   "source": []
  }
 ],
 "metadata": {
  "kernelspec": {
   "display_name": "Python 3",
   "language": "python",
   "name": "python3"
  },
  "language_info": {
   "codemirror_mode": {
    "name": "ipython",
    "version": 3
   },
   "file_extension": ".py",
   "mimetype": "text/x-python",
   "name": "python",
   "nbconvert_exporter": "python",
   "pygments_lexer": "ipython3",
   "version": "3.8.5"
  }
 },
 "nbformat": 4,
 "nbformat_minor": 4
}
