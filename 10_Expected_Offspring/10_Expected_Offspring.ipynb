{
 "cells": [
  {
   "cell_type": "code",
   "execution_count": 28,
   "metadata": {},
   "outputs": [
    {
     "name": "stdout",
     "output_type": "stream",
     "text": [
      "19318\n",
      "19272\n",
      "19301\n",
      "16033\n",
      "19711\n",
      "16088\n",
      "12024.75\n",
      "9855.5\n",
      "159542.5\n"
     ]
    }
   ],
   "source": [
    "#functions\n",
    "\n",
    "#MAIN FOLLOWS\n",
    "#------------\n",
    "#collect the data\n",
    "f = open(\"rosalind_iev.txt\", \"r\")\n",
    "data = f.read()\n",
    "f.close()\n",
    "\n",
    "#split the data\n",
    "data_split = data.split(\" \")\n",
    "\n",
    "#convert to int\n",
    "inputs = []\n",
    "for i in data_split:\n",
    "    inputs.append(int(i))\n",
    "    \n",
    "num_offspring = 2\n",
    "\n",
    "#store probabilities that offspring will show dominant phenotype, using simple punnett squares\n",
    "AA_AA = 1.0 \n",
    "AA_Aa = 1.0 \n",
    "AA_aa = 1.0 \n",
    "Aa_Aa = 0.75\n",
    "Aa_aa = 0.5\n",
    "aa_aa = 0\n",
    "\n",
    "total_dom_phenotype = (inputs[0] + inputs[1] + inputs[2] + (inputs[3] * Aa_Aa) + (inputs[4] * Aa_aa)) * num_offspring\n",
    "\n",
    "#create and output file\n",
    "out = open(\"rosalind_iev_output.txt\", \"w\")\n",
    "out.write(str(total_dom_phenotype))\n",
    "out.close()"
   ]
  },
  {
   "cell_type": "code",
   "execution_count": null,
   "metadata": {},
   "outputs": [],
   "source": []
  },
  {
   "cell_type": "code",
   "execution_count": null,
   "metadata": {},
   "outputs": [],
   "source": []
  }
 ],
 "metadata": {
  "kernelspec": {
   "display_name": "Python 3",
   "language": "python",
   "name": "python3"
  },
  "language_info": {
   "codemirror_mode": {
    "name": "ipython",
    "version": 3
   },
   "file_extension": ".py",
   "mimetype": "text/x-python",
   "name": "python",
   "nbconvert_exporter": "python",
   "pygments_lexer": "ipython3",
   "version": "3.8.5"
  }
 },
 "nbformat": 4,
 "nbformat_minor": 4
}
