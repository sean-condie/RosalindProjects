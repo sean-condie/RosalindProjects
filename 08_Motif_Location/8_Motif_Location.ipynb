{
 "cells": [
  {
   "cell_type": "code",
   "execution_count": 15,
   "metadata": {},
   "outputs": [
    {
     "name": "stdout",
     "output_type": "stream",
     "text": [
      "3 10 29 36 52 59 68 138 157 164 179 225 269 292 334 413 439 465 501 547 563 570 585 601 608 635 642 731 738 745 760 767 830 853 862 886 \n"
     ]
    }
   ],
   "source": [
    "#functions\n",
    "\n",
    "#MAIN FOLLOWS\n",
    "#------------\n",
    "#collect the data\n",
    "f = open(\"rosalind_subs.txt\", \"r\")\n",
    "data = f.readlines()\n",
    "f.close()\n",
    "\n",
    "dna = data[0].strip()\n",
    "motif = data[1].strip()\n",
    "\n",
    "motif_loc = []\n",
    "\n",
    "#count the DNA\n",
    "dna_len = len(dna)\n",
    "motif_len = len(motif)\n",
    "\n",
    "#index\n",
    "i = 0\n",
    "\n",
    "#move through every character in the DNA\n",
    "while i < dna_len - motif_len:\n",
    "    if dna[i:i+motif_len] == motif:\n",
    "        #add index number to the list \n",
    "        motif_loc.append(i+1)\n",
    "        \n",
    "    i += 1   \n",
    "\n",
    "output = \"\"\n",
    "\n",
    "for i in motif_loc:\n",
    "    output += str(i) + \" \"\n",
    "    \n",
    "print(output)\n",
    "        \n",
    "#create and output file\n",
    "out = open(\"rosalind_subs_output.txt\", \"w\")\n",
    "out.write(output)\n",
    "out.close()"
   ]
  },
  {
   "cell_type": "code",
   "execution_count": null,
   "metadata": {},
   "outputs": [],
   "source": []
  },
  {
   "cell_type": "code",
   "execution_count": null,
   "metadata": {},
   "outputs": [],
   "source": []
  }
 ],
 "metadata": {
  "kernelspec": {
   "display_name": "Python 3",
   "language": "python",
   "name": "python3"
  },
  "language_info": {
   "codemirror_mode": {
    "name": "ipython",
    "version": 3
   },
   "file_extension": ".py",
   "mimetype": "text/x-python",
   "name": "python",
   "nbconvert_exporter": "python",
   "pygments_lexer": "ipython3",
   "version": "3.8.5"
  }
 },
 "nbformat": 4,
 "nbformat_minor": 4
}
