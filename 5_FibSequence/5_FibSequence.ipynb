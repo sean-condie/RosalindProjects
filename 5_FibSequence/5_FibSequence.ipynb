{
 "cells": [
  {
   "cell_type": "code",
   "execution_count": 25,
   "metadata": {},
   "outputs": [],
   "source": [
    "import numpy as np\n",
    "\n",
    "#store the input\n",
    "f = open(\"rosalind_fib.txt\", \"r\")\n",
    "data = f.read()\n",
    "f.close()\n",
    "\n",
    "#parse out the individual values\n",
    "values = data.split()\n",
    "\n",
    "#initial parameters\n",
    "n_total = int(values[0])\n",
    "k = int(values[1])\n",
    "\n",
    "#create an array of ints for each generation\n",
    "n = np.zeros(n_total)\n",
    "\n",
    "#first generation is always 1 pair\n",
    "n[0] = 1\n",
    "#second generation is also the same as n0 since they are not mature\n",
    "n[1] = 1\n",
    "\n",
    "#set the current generation to 3\n",
    "n_current = 2 #zero indexted\n",
    "\n",
    "#loop through each generation\n",
    "while (n_current < n_total):\n",
    "    n[n_current] = n[n_current - 1] + (n[n_current - 2] * k) #recurrence relationship\n",
    "    n_current += 1 #advance to the next generation\n",
    "\n",
    "#create and output file\n",
    "out = open(\"rosalind_fib_output.txt\", \"w\")\n",
    "out.write(str(int(n[-1])))\n",
    "out.close()"
   ]
  },
  {
   "cell_type": "code",
   "execution_count": null,
   "metadata": {},
   "outputs": [],
   "source": []
  }
 ],
 "metadata": {
  "kernelspec": {
   "display_name": "Python 3",
   "language": "python",
   "name": "python3"
  },
  "language_info": {
   "codemirror_mode": {
    "name": "ipython",
    "version": 3
   },
   "file_extension": ".py",
   "mimetype": "text/x-python",
   "name": "python",
   "nbconvert_exporter": "python",
   "pygments_lexer": "ipython3",
   "version": "3.8.5"
  }
 },
 "nbformat": 4,
 "nbformat_minor": 4
}
