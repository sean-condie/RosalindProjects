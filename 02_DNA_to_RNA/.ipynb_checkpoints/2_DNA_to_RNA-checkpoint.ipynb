{
 "cells": [
  {
   "cell_type": "markdown",
   "id": "b76ac844-0aa7-4b72-bf96-5402ef7c4fdf",
   "metadata": {},
   "source": [
    "Problem:\n",
    "\n",
    "A string is simply an ordered collection of symbols selected from some alphabet and formed into a word; the length of a string is the number of symbols that it contains.\n",
    "\n",
    "An example of a length 21 DNA string (whose alphabet contains the symbols 'A', 'C', 'G', and 'T') is \"ATGCTTCAGAAAGGTCTTACG.\"\n",
    "\n",
    "Given: A DNA string s of length at most 1000 nt.\n",
    "\n",
    "Return: Four integers (separated by spaces) counting the respective number of times that the symbols 'A', 'C', 'G', and 'T' occur in s.\n",
    "\n",
    "Sample Dataset:\n",
    "\n",
    "    AGCTTTTCATTCTGACTGCAACGGGCAATATGTCTCTGTGTGGATTAAAAAAAGAGTGTCTGATAGCAGC\n",
    "Sample Output:\n",
    "\n",
    "    20 12 17 21"
   ]
  },
  {
   "cell_type": "code",
   "execution_count": 22,
   "id": "80369f6b-7597-49f9-b028-493515f088b4",
   "metadata": {},
   "outputs": [
    {
     "name": "stdout",
     "output_type": "stream",
     "text": [
      "214 229 195 176\n"
     ]
    }
   ],
   "source": [
    "#store the random input\n",
    "f = open(\"rosalind_dna.txt\", \"r\")\n",
    "dna = f.read()\n",
    "\n",
    "A = T = G = C = 0\n",
    "\n",
    "for n in dna:\n",
    "    if n == \"A\":\n",
    "        A += 1\n",
    "    elif n == \"T\":\n",
    "        T += 1\n",
    "    elif n == \"G\":\n",
    "        G += 1\n",
    "    elif n == \"C\":\n",
    "        C += 1\n",
    "        \n",
    "print(str(A) + \" \" + str(C) + \" \" + str(G) + \" \" + str(T))"
   ]
  },
  {
   "cell_type": "code",
   "execution_count": null,
   "id": "7210fc39-59c5-4baf-97bb-58675130f5ba",
   "metadata": {},
   "outputs": [],
   "source": []
  }
 ],
 "metadata": {
  "kernelspec": {
   "display_name": "Python 3",
   "language": "python",
   "name": "python3"
  },
  "language_info": {
   "codemirror_mode": {
    "name": "ipython",
    "version": 3
   },
   "file_extension": ".py",
   "mimetype": "text/x-python",
   "name": "python",
   "nbconvert_exporter": "python",
   "pygments_lexer": "ipython3",
   "version": "3.8.5"
  }
 },
 "nbformat": 4,
 "nbformat_minor": 5
}
